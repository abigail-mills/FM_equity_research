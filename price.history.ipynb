{
 "cells": [
  {
   "cell_type": "code",
   "execution_count": 7,
   "metadata": {},
   "outputs": [],
   "source": [
    "import matplotlib.pyplot as plt\n",
    "import yfinance as yf\n",
    "\n",
    "def generate_stock_plot(ticker, start_date, end_date, output_filename):\n",
    "\n",
    "    # Download the stock data using yfinance API\n",
    "    data = yf.download(ticker, start=start_date, end=end_date)\n",
    "    \n",
    "    if data.empty:\n",
    "        raise ValueError(f\"No data found for ticker: {ticker}\")\n",
    "    \n",
    "    # Create a new figure and axis for plotting\n",
    "    fig, ax = plt.subplots(figsize=(10, 5))\n",
    "    \n",
    "    # Plot the closing price history\n",
    "    ax.plot(data.index, data['Close'], label='Close Price')\n",
    "    ax.set_title(f\"{ticker} Price History\")\n",
    "    ax.set_xlabel(\"Date\")\n",
    "    ax.set_ylabel(\"Price\")\n",
    "    ax.legend()\n",
    "    \n",
    "    return fig\n"
   ]
  }
 ],
 "metadata": {
  "kernelspec": {
   "display_name": "Python 3",
   "language": "python",
   "name": "python3"
  },
  "language_info": {
   "codemirror_mode": {
    "name": "ipython",
    "version": 3
   },
   "file_extension": ".py",
   "mimetype": "text/x-python",
   "name": "python",
   "nbconvert_exporter": "python",
   "pygments_lexer": "ipython3",
   "version": "3.12.1"
  }
 },
 "nbformat": 4,
 "nbformat_minor": 2
}
