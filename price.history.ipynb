{
 "cells": [
  {
   "cell_type": "code",
   "execution_count": 2,
   "metadata": {},
   "outputs": [
    {
     "data": {
      "application/vnd.jupyter.widget-view+json": {
       "model_id": "ce050a62dc724f52bf8c9f865350b59c",
       "version_major": 2,
       "version_minor": 0
      },
      "text/plain": [
       "interactive(children=(Text(value='MSFT', description='Ticker:'), Text(value='2022-08-03', description='Start D…"
      ]
     },
     "metadata": {},
     "output_type": "display_data"
    },
    {
     "data": {
      "text/plain": [
       "<function __main__.plot_stock(ticker, start_date, end_date)>"
      ]
     },
     "execution_count": 2,
     "metadata": {},
     "output_type": "execute_result"
    }
   ],
   "source": [
    "import pandas as pd\n",
    "import matplotlib.pyplot as plt\n",
    "import yfinance as yf\n",
    "import ipywidgets as widgets\n",
    "\n",
    "def plot_stock(ticker, start_date, end_date):\n",
    "    # Download the stock data for the given ticker and date range\n",
    "    data = yf.download(ticker, start=start_date, end=end_date)\n",
    "    \n",
    "    if data.empty:\n",
    "        print(\"No data found for ticker:\", ticker)\n",
    "        return\n",
    "    \n",
    "    # Plot the closing price history\n",
    "    data['Close'].plot(title=f\"{ticker} Price History\")\n",
    "    plt.xlabel(\"Date\")\n",
    "    plt.ylabel(\"Price\")\n",
    "    plt.show()\n",
    "\n",
    "# Create widgets for interactive input\n",
    "ticker_widget = widgets.Text(value='MSFT', description='Ticker:')\n",
    "start_widget = widgets.Text(value='2022-08-03', description='Start Date:')\n",
    "end_widget = widgets.Text(value='2023-08-10', description='End Date:')\n",
    "\n",
    "# Use interact to update the plot based on widget input\n",
    "widgets.interact(plot_stock, ticker=ticker_widget, start_date=start_widget, end_date=end_widget)"
   ]
  }
 ],
 "metadata": {
  "kernelspec": {
   "display_name": "Python 3",
   "language": "python",
   "name": "python3"
  },
  "language_info": {
   "codemirror_mode": {
    "name": "ipython",
    "version": 3
   },
   "file_extension": ".py",
   "mimetype": "text/x-python",
   "name": "python",
   "nbconvert_exporter": "python",
   "pygments_lexer": "ipython3",
   "version": "3.12.1"
  }
 },
 "nbformat": 4,
 "nbformat_minor": 2
}
