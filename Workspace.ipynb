{
 "cells": [
  {
   "cell_type": "code",
   "execution_count": 1,
   "metadata": {},
   "outputs": [],
   "source": [
    "# Import libraries\n",
    "\n",
    "import numpy as np \n",
    "import pandas as pd\n",
    "import matplotlib.pyplot as plt\n",
    "import requests as rq \n",
    "import lxml \n",
    "import fpdf \n",
    "import yfinance as yf \n",
    "import ipywidgets as ipy "
   ]
  },
  {
   "cell_type": "code",
   "execution_count": 3,
   "metadata": {},
   "outputs": [],
   "source": [
    "# Basic functions\n",
    "\n",
    "# Function to calculate the P/E ratio of a stock\n",
    "def calculate_pe_ratio(price, earnings):\n",
    "    return price / earnings\n",
    "\n",
    "# Function to calculate the dividend yield of a stock\n",
    "def calculate_dividend_yield(dividend, price):\n",
    "    return dividend / price\n",
    "    \n",
    "# Function to calculate the earnings per share of a stock\n",
    "def calculate_eps(net_income, shares_outstanding):\n",
    "    return net_income / shares_outstanding\n",
    "    \n",
    "# Function to calculate ROA of a stock\n",
    "def calculate_roa(net_income, total_assets):\n",
    "    return net_income / total_assets"
   ]
  },
  {
   "cell_type": "code",
   "execution_count": null,
   "metadata": {},
   "outputs": [],
   "source": []
  }
 ],
 "metadata": {
  "kernelspec": {
   "display_name": "Python 3",
   "language": "python",
   "name": "python3"
  },
  "language_info": {
   "codemirror_mode": {
    "name": "ipython",
    "version": 3
   },
   "file_extension": ".py",
   "mimetype": "text/x-python",
   "name": "python",
   "nbconvert_exporter": "python",
   "pygments_lexer": "ipython3",
   "version": "3.12.1"
  }
 },
 "nbformat": 4,
 "nbformat_minor": 2
}
